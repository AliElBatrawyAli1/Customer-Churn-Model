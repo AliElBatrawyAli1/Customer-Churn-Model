{
 "cells": [
  {
   "cell_type": "code",
   "execution_count": 1,
   "metadata": {
    "ExecuteTime": {
     "end_time": "2024-09-25T06:49:27.925920Z",
     "start_time": "2024-09-25T06:49:27.920830Z"
    }
   },
   "outputs": [],
   "source": [
    "import pandas as pd \n",
    "import numpy as np \n",
    "import matplotlib.pyplot as plt\n",
    "from sklearn.preprocessing import OneHotEncoder, MinMaxScaler, LabelEncoder\n",
    "from sklearn.linear_model import LogisticRegression\n",
    "from sklearn.model_selection import train_test_split\n",
    "from sklearn.metrics import accuracy_score"
   ]
  },
  {
   "cell_type": "code",
   "execution_count": 2,
   "metadata": {
    "ExecuteTime": {
     "end_time": "2024-09-25T06:48:39.524837Z",
     "start_time": "2024-09-25T06:48:39.503241Z"
    },
    "id": "45DNTiSAqqbG"
   },
   "outputs": [],
   "source": [
    "df = pd.read_csv(r\"C:\\Users\\original\\Desktop\\جدارات تالته ترم اول\\ECU-3.3\\Data-Customer-Churn.csv\")  "
   ]
  },
  {
   "cell_type": "code",
   "execution_count": 3,
   "metadata": {},
   "outputs": [
    {
     "name": "stdout",
     "output_type": "stream",
     "text": [
      "customerID\n",
      "['7590-VHVEG' '5575-GNVDE' '3668-QPYBK' ... '4801-JZAZL' '8361-LTMKD'\n",
      " '3186-AJIEK']\n",
      "gender\n",
      "['Female' 'Male']\n",
      "SeniorCitizen\n",
      "[0 1]\n",
      "Partner\n",
      "['Yes' 'No']\n",
      "Dependents\n",
      "['No' 'Yes']\n",
      "tenure\n",
      "[ 1 34  2 45  8 22 10 28 62 13 16 58 49 25 69 52 71 21 12 30 47 72 17 27\n",
      "  5 46 11 70 63 43 15 60 18 66  9  3 31 50 64 56  7 42 35 48 29 65 38 68\n",
      " 32 55 37 36 41  6  4 33 67 23 57 61 14 20 53 40 59 24 44 19 54 51 26  0\n",
      " 39]\n",
      "PhoneService\n",
      "['No' 'Yes']\n",
      "MultipleLines\n",
      "['No phone service' 'No' 'Yes']\n",
      "InternetService\n",
      "['DSL' 'Fiber optic' 'No']\n",
      "OnlineSecurity\n",
      "['No' 'Yes' 'No internet service']\n",
      "OnlineBackup\n",
      "['Yes' 'No' 'No internet service']\n",
      "DeviceProtection\n",
      "['No' 'Yes' 'No internet service']\n",
      "TechSupport\n",
      "['No' 'Yes' 'No internet service']\n",
      "StreamingTV\n",
      "['No' 'Yes' 'No internet service']\n",
      "StreamingMovies\n",
      "['No' 'Yes' 'No internet service']\n",
      "Contract\n",
      "['Month-to-month' 'One year' 'Two year']\n",
      "PaperlessBilling\n",
      "['Yes' 'No']\n",
      "PaymentMethod\n",
      "['Electronic check' 'Mailed check' 'Bank transfer (automatic)'\n",
      " 'Credit card (automatic)']\n",
      "MonthlyCharges\n",
      "[29.85 56.95 53.85 ... 63.1  44.2  78.7 ]\n",
      "TotalCharges\n",
      "['29.85' '1889.5' '108.15' ... '346.45' '306.6' '6844.5']\n",
      "Churn\n",
      "['No' 'Yes']\n"
     ]
    }
   ],
   "source": [
    "df_columns=df.columns.tolist()\n",
    "for i in df_columns:\n",
    "    print(i)\n",
    "    print(df[i].unique())"
   ]
  },
  {
   "cell_type": "code",
   "execution_count": 4,
   "metadata": {
    "ExecuteTime": {
     "end_time": "2024-09-25T06:48:40.027272Z",
     "start_time": "2024-09-25T06:48:40.023832Z"
    },
    "id": "U30UqclEq8AV"
   },
   "outputs": [],
   "source": [
    "import joblib\n",
    "label_encode_cols = [\"Partner\", \"Dependents\", \"PhoneService\", \"PaperlessBilling\",'gender']\n",
    "one_hot_encode_cols = [\"MultipleLines\", \"InternetService\", \"OnlineSecurity\", \"OnlineBackup\",\n",
    "                       \"DeviceProtection\", \"TechSupport\", \"StreamingTV\", \"StreamingMovies\",\n",
    "                       \"Contract\", \"PaymentMethod\"]\n",
    "min_max_scale_cols = [\"tenure\", \"MonthlyCharges\", \"TotalCharges\"]"
   ]
  },
  {
   "cell_type": "code",
   "execution_count": 5,
   "metadata": {
    "ExecuteTime": {
     "end_time": "2024-09-25T06:48:40.584830Z",
     "start_time": "2024-09-25T06:48:40.579552Z"
    },
    "id": "7SPWJ6GKrOqY"
   },
   "outputs": [],
   "source": [
    "X = df.drop(columns=['customerID', 'Churn'])\n",
    "y = df['Churn']"
   ]
  },
  {
   "cell_type": "code",
   "execution_count": 6,
   "metadata": {
    "ExecuteTime": {
     "end_time": "2024-09-25T06:48:41.387635Z",
     "start_time": "2024-09-25T06:48:41.383686Z"
    },
    "colab": {
     "base_uri": "https://localhost:8080/"
    },
    "id": "LIvqF6zHrQ30",
    "outputId": "34013dde-2933-4bbb-850f-7ef9567c6746"
   },
   "outputs": [
    {
     "data": {
      "text/plain": [
       "array(['No', 'Yes'], dtype=object)"
      ]
     },
     "execution_count": 6,
     "metadata": {},
     "output_type": "execute_result"
    }
   ],
   "source": [
    "y.unique()"
   ]
  },
  {
   "cell_type": "code",
   "execution_count": 7,
   "metadata": {
    "ExecuteTime": {
     "end_time": "2024-09-25T06:48:41.765017Z",
     "start_time": "2024-09-25T06:48:41.760930Z"
    },
    "id": "7jeMpnz2rT28"
   },
   "outputs": [],
   "source": [
    "le_target = LabelEncoder()\n",
    "y = le_target.fit_transform(y)"
   ]
  },
  {
   "cell_type": "markdown",
   "metadata": {
    "id": "DX1kDE5MlO_V"
   },
   "source": [
    "**Label Encoder for the Target Variable**"
   ]
  },
  {
   "cell_type": "code",
   "execution_count": 8,
   "metadata": {
    "ExecuteTime": {
     "end_time": "2024-09-25T06:48:43.128925Z",
     "start_time": "2024-09-25T06:48:43.123735Z"
    },
    "colab": {
     "base_uri": "https://localhost:8080/"
    },
    "id": "cak1q_TXlO6t",
    "outputId": "ca7a48fa-110c-47a3-9c66-9e6f5fe7a195"
   },
   "outputs": [
    {
     "name": "stdout",
     "output_type": "stream",
     "text": [
      "Label encoder for target saved.\n"
     ]
    }
   ],
   "source": [
    "joblib.dump(le_target, 'label_encoder_target.pkl')\n",
    "print(\"Label encoder for target saved.\")"
   ]
  },
  {
   "cell_type": "markdown",
   "metadata": {
    "id": "Csdc_300smlH"
   },
   "source": [
    "**Handle Missing Values and Convert Data Types**"
   ]
  },
  {
   "cell_type": "code",
   "execution_count": 9,
   "metadata": {
    "ExecuteTime": {
     "end_time": "2024-09-25T06:48:43.908112Z",
     "start_time": "2024-09-25T06:48:43.897446Z"
    },
    "id": "USHIBBhOskhe"
   },
   "outputs": [],
   "source": [
    "X[min_max_scale_cols] = X[min_max_scale_cols].replace(' ', np.nan).astype(float)\n",
    "X[min_max_scale_cols] = X[min_max_scale_cols].fillna(X[min_max_scale_cols].mean())"
   ]
  },
  {
   "cell_type": "markdown",
   "metadata": {
    "id": "xz7XqOrclBxa"
   },
   "source": [
    "**Saving MinMax Scaler**"
   ]
  },
  {
   "cell_type": "code",
   "execution_count": 10,
   "metadata": {
    "ExecuteTime": {
     "end_time": "2024-09-25T06:48:44.847214Z",
     "start_time": "2024-09-25T06:48:44.839874Z"
    },
    "id": "0tKDcyW2sdPn"
   },
   "outputs": [],
   "source": [
    "min_max_scaler = MinMaxScaler()\n",
    "scaled_numerical = min_max_scaler.fit_transform(X[min_max_scale_cols])"
   ]
  },
  {
   "cell_type": "code",
   "execution_count": 11,
   "metadata": {
    "ExecuteTime": {
     "end_time": "2024-09-25T06:48:45.346721Z",
     "start_time": "2024-09-25T06:48:45.341629Z"
    },
    "colab": {
     "base_uri": "https://localhost:8080/"
    },
    "id": "baIg8TAmxB-d",
    "outputId": "d73591d4-ee50-4e06-870d-b5ab696b1c58"
   },
   "outputs": [
    {
     "name": "stdout",
     "output_type": "stream",
     "text": [
      "Min-max scaler saved.\n"
     ]
    }
   ],
   "source": [
    "joblib.dump(min_max_scaler, 'min_max_scaler.pkl')\n",
    "print(\"Min-max scaler saved.\")"
   ]
  },
  {
   "cell_type": "markdown",
   "metadata": {
    "id": "ByHKE8kGk8A_"
   },
   "source": [
    "**Saving Label Encoders**"
   ]
  },
  {
   "cell_type": "code",
   "execution_count": 12,
   "metadata": {
    "ExecuteTime": {
     "end_time": "2024-09-25T06:48:46.155089Z",
     "start_time": "2024-09-25T06:48:46.143342Z"
    },
    "id": "q3XjCdb3qyZx"
   },
   "outputs": [],
   "source": [
    "label_encoders = {}\n",
    "for col in label_encode_cols:\n",
    "    le = LabelEncoder()\n",
    "    X[col] = le.fit_transform(X[col])\n",
    "    label_encoders[col] = le"
   ]
  },
  {
   "cell_type": "code",
   "execution_count": 13,
   "metadata": {
    "ExecuteTime": {
     "end_time": "2024-09-25T06:48:46.617413Z",
     "start_time": "2024-09-25T06:48:46.612413Z"
    },
    "colab": {
     "base_uri": "https://localhost:8080/"
    },
    "id": "jbKiQRKksszV",
    "outputId": "2c18fcf6-79cb-4d5b-948e-5b3a6e44767b"
   },
   "outputs": [
    {
     "name": "stdout",
     "output_type": "stream",
     "text": [
      "Label encoders saved.\n"
     ]
    }
   ],
   "source": [
    "joblib.dump(label_encoders, 'label_encoders.pkl')\n",
    "print(\"Label encoders saved.\")"
   ]
  },
  {
   "cell_type": "markdown",
   "metadata": {
    "id": "kITWxNUok_tI"
   },
   "source": [
    "**Saving One-Hot Encoder**"
   ]
  },
  {
   "cell_type": "code",
   "execution_count": 14,
   "metadata": {
    "ExecuteTime": {
     "end_time": "2024-09-25T06:48:47.599921Z",
     "start_time": "2024-09-25T06:48:47.581012Z"
    },
    "colab": {
     "base_uri": "https://localhost:8080/"
    },
    "id": "Xu6uVwIfsdDq",
    "outputId": "454f1086-d1c5-4922-832a-2e5ddce9d4d1"
   },
   "outputs": [],
   "source": [
    "one_hot_encoder = OneHotEncoder(sparse_output=False, handle_unknown='ignore')\n",
    "one_hot_encoded = one_hot_encoder.fit_transform(X[one_hot_encode_cols])"
   ]
  },
  {
   "cell_type": "code",
   "execution_count": 15,
   "metadata": {
    "ExecuteTime": {
     "end_time": "2024-09-25T06:48:48.209920Z",
     "start_time": "2024-09-25T06:48:48.203709Z"
    },
    "colab": {
     "base_uri": "https://localhost:8080/"
    },
    "id": "-KUZ1O_4suvp",
    "outputId": "0aa8bc0e-9094-4968-f8de-bd0bc5c343e1"
   },
   "outputs": [
    {
     "name": "stdout",
     "output_type": "stream",
     "text": [
      "One-hot encoder saved.\n"
     ]
    }
   ],
   "source": [
    "joblib.dump(one_hot_encoder, 'one_hot_encoder.pkl')\n",
    "print(\"One-hot encoder saved.\")"
   ]
  },
  {
   "cell_type": "markdown",
   "metadata": {
    "id": "8F7OQIAAsznK"
   },
   "source": [
    "**Combine Processed Columns**"
   ]
  },
  {
   "cell_type": "code",
   "execution_count": 16,
   "metadata": {
    "ExecuteTime": {
     "end_time": "2024-09-25T06:48:49.192927Z",
     "start_time": "2024-09-25T06:48:49.187519Z"
    },
    "id": "v3muz1l8s0Tt"
   },
   "outputs": [],
   "source": [
    "X_processed = np.hstack((X[label_encode_cols].values, scaled_numerical, one_hot_encoded))"
   ]
  },
  {
   "cell_type": "code",
   "execution_count": 17,
   "metadata": {
    "ExecuteTime": {
     "end_time": "2024-09-25T06:48:50.373368Z",
     "start_time": "2024-09-25T06:48:50.327521Z"
    },
    "id": "ThoZjINIs4vL"
   },
   "outputs": [],
   "source": [
    "X_train, X_test, y_train, y_test = train_test_split(X_processed, y, test_size=0.2, random_state=42)"
   ]
  },
  {
   "cell_type": "code",
   "execution_count": 18,
   "metadata": {},
   "outputs": [
    {
     "data": {
      "text/html": [
       "<style>#sk-container-id-1 {color: black;}#sk-container-id-1 pre{padding: 0;}#sk-container-id-1 div.sk-toggleable {background-color: white;}#sk-container-id-1 label.sk-toggleable__label {cursor: pointer;display: block;width: 100%;margin-bottom: 0;padding: 0.3em;box-sizing: border-box;text-align: center;}#sk-container-id-1 label.sk-toggleable__label-arrow:before {content: \"▸\";float: left;margin-right: 0.25em;color: #696969;}#sk-container-id-1 label.sk-toggleable__label-arrow:hover:before {color: black;}#sk-container-id-1 div.sk-estimator:hover label.sk-toggleable__label-arrow:before {color: black;}#sk-container-id-1 div.sk-toggleable__content {max-height: 0;max-width: 0;overflow: hidden;text-align: left;background-color: #f0f8ff;}#sk-container-id-1 div.sk-toggleable__content pre {margin: 0.2em;color: black;border-radius: 0.25em;background-color: #f0f8ff;}#sk-container-id-1 input.sk-toggleable__control:checked~div.sk-toggleable__content {max-height: 200px;max-width: 100%;overflow: auto;}#sk-container-id-1 input.sk-toggleable__control:checked~label.sk-toggleable__label-arrow:before {content: \"▾\";}#sk-container-id-1 div.sk-estimator input.sk-toggleable__control:checked~label.sk-toggleable__label {background-color: #d4ebff;}#sk-container-id-1 div.sk-label input.sk-toggleable__control:checked~label.sk-toggleable__label {background-color: #d4ebff;}#sk-container-id-1 input.sk-hidden--visually {border: 0;clip: rect(1px 1px 1px 1px);clip: rect(1px, 1px, 1px, 1px);height: 1px;margin: -1px;overflow: hidden;padding: 0;position: absolute;width: 1px;}#sk-container-id-1 div.sk-estimator {font-family: monospace;background-color: #f0f8ff;border: 1px dotted black;border-radius: 0.25em;box-sizing: border-box;margin-bottom: 0.5em;}#sk-container-id-1 div.sk-estimator:hover {background-color: #d4ebff;}#sk-container-id-1 div.sk-parallel-item::after {content: \"\";width: 100%;border-bottom: 1px solid gray;flex-grow: 1;}#sk-container-id-1 div.sk-label:hover label.sk-toggleable__label {background-color: #d4ebff;}#sk-container-id-1 div.sk-serial::before {content: \"\";position: absolute;border-left: 1px solid gray;box-sizing: border-box;top: 0;bottom: 0;left: 50%;z-index: 0;}#sk-container-id-1 div.sk-serial {display: flex;flex-direction: column;align-items: center;background-color: white;padding-right: 0.2em;padding-left: 0.2em;position: relative;}#sk-container-id-1 div.sk-item {position: relative;z-index: 1;}#sk-container-id-1 div.sk-parallel {display: flex;align-items: stretch;justify-content: center;background-color: white;position: relative;}#sk-container-id-1 div.sk-item::before, #sk-container-id-1 div.sk-parallel-item::before {content: \"\";position: absolute;border-left: 1px solid gray;box-sizing: border-box;top: 0;bottom: 0;left: 50%;z-index: -1;}#sk-container-id-1 div.sk-parallel-item {display: flex;flex-direction: column;z-index: 1;position: relative;background-color: white;}#sk-container-id-1 div.sk-parallel-item:first-child::after {align-self: flex-end;width: 50%;}#sk-container-id-1 div.sk-parallel-item:last-child::after {align-self: flex-start;width: 50%;}#sk-container-id-1 div.sk-parallel-item:only-child::after {width: 0;}#sk-container-id-1 div.sk-dashed-wrapped {border: 1px dashed gray;margin: 0 0.4em 0.5em 0.4em;box-sizing: border-box;padding-bottom: 0.4em;background-color: white;}#sk-container-id-1 div.sk-label label {font-family: monospace;font-weight: bold;display: inline-block;line-height: 1.2em;}#sk-container-id-1 div.sk-label-container {text-align: center;}#sk-container-id-1 div.sk-container {/* jupyter's `normalize.less` sets `[hidden] { display: none; }` but bootstrap.min.css set `[hidden] { display: none !important; }` so we also need the `!important` here to be able to override the default hidden behavior on the sphinx rendered scikit-learn.org. See: https://github.com/scikit-learn/scikit-learn/issues/21755 */display: inline-block !important;position: relative;}#sk-container-id-1 div.sk-text-repr-fallback {display: none;}</style><div id=\"sk-container-id-1\" class=\"sk-top-container\"><div class=\"sk-text-repr-fallback\"><pre>LogisticRegression(max_iter=1000, random_state=42)</pre><b>In a Jupyter environment, please rerun this cell to show the HTML representation or trust the notebook. <br />On GitHub, the HTML representation is unable to render, please try loading this page with nbviewer.org.</b></div><div class=\"sk-container\" hidden><div class=\"sk-item\"><div class=\"sk-estimator sk-toggleable\"><input class=\"sk-toggleable__control sk-hidden--visually\" id=\"sk-estimator-id-1\" type=\"checkbox\" checked><label for=\"sk-estimator-id-1\" class=\"sk-toggleable__label sk-toggleable__label-arrow\">LogisticRegression</label><div class=\"sk-toggleable__content\"><pre>LogisticRegression(max_iter=1000, random_state=42)</pre></div></div></div></div></div>"
      ],
      "text/plain": [
       "LogisticRegression(max_iter=1000, random_state=42)"
      ]
     },
     "execution_count": 18,
     "metadata": {},
     "output_type": "execute_result"
    }
   ],
   "source": [
    "model = LogisticRegression(max_iter=1000, random_state=42)\n",
    "model.fit(X_train, y_train)"
   ]
  },
  {
   "cell_type": "markdown",
   "metadata": {
    "id": "H5ndA24FlHoF"
   },
   "source": [
    "**Saving the Trained Logistic Regression Model**\n"
   ]
  },
  {
   "cell_type": "code",
   "execution_count": 19,
   "metadata": {
    "ExecuteTime": {
     "end_time": "2024-09-25T06:48:58.973360Z",
     "start_time": "2024-09-25T06:48:58.969170Z"
    }
   },
   "outputs": [
    {
     "data": {
      "text/plain": [
       "0.8183108587650816"
      ]
     },
     "execution_count": 19,
     "metadata": {},
     "output_type": "execute_result"
    }
   ],
   "source": [
    "model.score(X_test,y_test)"
   ]
  },
  {
   "cell_type": "code",
   "execution_count": 20,
   "metadata": {},
   "outputs": [
    {
     "data": {
      "text/plain": [
       "0.8183108587650816"
      ]
     },
     "execution_count": 20,
     "metadata": {},
     "output_type": "execute_result"
    }
   ],
   "source": [
    "model.score(X_test,y_test)"
   ]
  },
  {
   "cell_type": "code",
   "execution_count": 21,
   "metadata": {
    "ExecuteTime": {
     "end_time": "2024-09-25T06:49:35.336682Z",
     "start_time": "2024-09-25T06:49:35.331053Z"
    },
    "colab": {
     "base_uri": "https://localhost:8080/"
    },
    "id": "QPG73cxOtA7q",
    "outputId": "de2ff6db-e1ef-4894-f722-58c9c21f321b"
   },
   "outputs": [
    {
     "data": {
      "text/plain": [
       "['logistic_regression_model.pkl']"
      ]
     },
     "execution_count": 21,
     "metadata": {},
     "output_type": "execute_result"
    }
   ],
   "source": [
    "model_file = 'logistic_regression_model.pkl'\n",
    "joblib.dump(model, model_file)"
   ]
  },
  {
   "cell_type": "code",
   "execution_count": 22,
   "metadata": {},
   "outputs": [
    {
     "name": "stdout",
     "output_type": "stream",
     "text": [
      "Requirement already satisfied: Flask in c:\\users\\original\\anaconda3\\lib\\site-packages (2.2.2)\n",
      "Requirement already satisfied: Werkzeug>=2.2.2 in c:\\users\\original\\anaconda3\\lib\\site-packages (from Flask) (2.2.3)\n",
      "Requirement already satisfied: Jinja2>=3.0 in c:\\users\\original\\anaconda3\\lib\\site-packages (from Flask) (3.1.2)\n",
      "Requirement already satisfied: itsdangerous>=2.0 in c:\\users\\original\\anaconda3\\lib\\site-packages (from Flask) (2.0.1)\n",
      "Requirement already satisfied: click>=8.0 in c:\\users\\original\\anaconda3\\lib\\site-packages (from Flask) (8.0.4)\n",
      "Requirement already satisfied: colorama in c:\\users\\original\\anaconda3\\lib\\site-packages (from click>=8.0->Flask) (0.4.4)\n",
      "Requirement already satisfied: MarkupSafe>=2.0 in c:\\users\\original\\anaconda3\\lib\\site-packages (from Jinja2>=3.0->Flask) (2.1.1)\n"
     ]
    }
   ],
   "source": [
    "!pip install Flask"
   ]
  },
  {
   "cell_type": "code",
   "execution_count": 28,
   "metadata": {},
   "outputs": [
    {
     "name": "stdout",
     "output_type": "stream",
     "text": [
      " * Serving Flask app '__main__'\n",
      " * Debug mode: on\n"
     ]
    },
    {
     "name": "stderr",
     "output_type": "stream",
     "text": [
      "WARNING: This is a development server. Do not use it in a production deployment. Use a production WSGI server instead.\n",
      " * Running on http://127.0.0.1:5000\n",
      "INFO:werkzeug:\u001b[31m\u001b[1mWARNING: This is a development server. Do not use it in a production deployment. Use a production WSGI server instead.\u001b[0m\n",
      " * Running on http://127.0.0.1:5000\n",
      "Press CTRL+C to quit\n",
      "INFO:werkzeug:\u001b[33mPress CTRL+C to quit\u001b[0m\n",
      " * Restarting with watchdog (windowsapi)\n",
      "INFO:werkzeug: * Restarting with watchdog (windowsapi)\n"
     ]
    },
    {
     "ename": "SystemExit",
     "evalue": "1",
     "output_type": "error",
     "traceback": [
      "An exception has occurred, use %tb to see the full traceback.\n",
      "\u001b[1;31mSystemExit\u001b[0m\u001b[1;31m:\u001b[0m 1\n"
     ]
    }
   ],
   "source": [
    "import pandas as pd\n",
    "import numpy as np\n",
    "import joblib\n",
    "from flask import Flask, request, jsonify\n",
    "import logging\n",
    "\n",
    "# إعداد التسجيل\n",
    "logging.basicConfig(level=logging.INFO)\n",
    "\n",
    "# تحميل خطوات المعالجة المسبقة والنموذج\n",
    "label_encoders = joblib.load(\"label_encoders.pkl\")\n",
    "one_hot_encoder = joblib.load(\"one_hot_encoder.pkl\")\n",
    "min_max_scaler = joblib.load(\"min_max_scaler.pkl\")\n",
    "model = joblib.load(\"logistic_regression_model.pkl\")\n",
    "le_target = joblib.load(\"label_encoder_target.pkl\")\n",
    "\n",
    "app = Flask(__name__)\n",
    "\n",
    "def preprocess_data(data):\n",
    "    df = pd.DataFrame([data])\n",
    "\n",
    "    label_encode_cols = [\n",
    "        \"Partner\",\n",
    "        \"Dependents\",\n",
    "        \"PhoneService\",\n",
    "        \"PaperlessBilling\",\n",
    "        \"gender\",\n",
    "    ]\n",
    "    one_hot_encode_cols = [\n",
    "        \"MultipleLines\",\n",
    "        \"InternetService\",\n",
    "        \"OnlineSecurity\",\n",
    "        \"OnlineBackup\",\n",
    "        \"DeviceProtection\",\n",
    "        \"TechSupport\",\n",
    "        \"StreamingTV\",\n",
    "        \"StreamingMovies\",\n",
    "        \"Contract\",\n",
    "        \"PaymentMethod\",\n",
    "    ]\n",
    "    min_max_scale_cols = [\"tenure\", \"MonthlyCharges\", \"TotalCharges\"]\n",
    "\n",
    "    # إزالة المسافات الزائدة من مدخلات السلسلة\n",
    "    for col in label_encode_cols + one_hot_encode_cols:\n",
    "        df[col] = df[col].str.strip()\n",
    "\n",
    "    # تحويل القيم غير الرقمية إلى NaN وملؤها بمتوسط العمود\n",
    "    df[min_max_scale_cols] = df[min_max_scale_cols].replace(\" \", np.nan).astype(float)\n",
    "    df[min_max_scale_cols] = df[min_max_scale_cols].fillna(df[min_max_scale_cols].mean())\n",
    "\n",
    "    # ترميز التسميات للأعمدة المحددة\n",
    "    for col in label_encode_cols:\n",
    "        le = label_encoders[col]\n",
    "        df[col] = le.transform(df[col])\n",
    "\n",
    "    # ترميز واحد للأعمدة المحددة\n",
    "    one_hot_encoded = one_hot_encoder.transform(df[one_hot_encode_cols])\n",
    "\n",
    "    # تطبيق المقياس الأدنى والأقصى على الأعمدة المحددة\n",
    "    scaled_numerical = min_max_scaler.transform(df[min_max_scale_cols])\n",
    "\n",
    "    # دمج الأعمدة المعالجة في مصفوفة واحدة\n",
    "    X_processed = np.hstack((df[label_encode_cols].values, scaled_numerical, one_hot_encoded.toarray()))\n",
    "\n",
    "    return X_processed\n",
    "\n",
    "@app.route('/predict', methods=['POST'])\n",
    "def predict():\n",
    "    data = request.json\n",
    "\n",
    "    # إعداد قائمة الحقول المطلوبة من JSON المدخل\n",
    "    required_fields = [\n",
    "        \"gender\", \"SeniorCitizen\", \"Partner\", \"Dependents\", \"tenure\",\n",
    "        \"PhoneService\", \"MultipleLines\", \"InternetService\", \"OnlineSecurity\",\n",
    "        \"OnlineBackup\", \"DeviceProtection\", \"TechSupport\", \"StreamingTV\",\n",
    "        \"StreamingMovies\", \"Contract\", \"PaperlessBilling\", \"PaymentMethod\",\n",
    "        \"MonthlyCharges\", \"TotalCharges\"\n",
    "    ]\n",
    "\n",
    "    missing_fields = [field for field in required_fields if field not in data]\n",
    "\n",
    "    if missing_fields:\n",
    "        return jsonify({\"success\": False, \"error\": f\"Missing fields: {', '.join(missing_fields)}\"}), 400\n",
    "\n",
    "    try:\n",
    "        # التحقق من نوع القيمة لـ 'tenure'\n",
    "        if not isinstance(data['tenure'], (int, float)) or data['tenure'] < 0:\n",
    "            return jsonify({\"success\": False, \"error\": \"Invalid value for 'tenure'. Must be a non-negative number.\"}), 400\n",
    "        \n",
    "        X_new = preprocess_data(data)\n",
    "        prediction = model.predict(X_new)\n",
    "        prediction = le_target.inverse_transform(prediction)\n",
    "        return jsonify({\"success\": True, \"prediction\": \"Churn\" if prediction[0] == \"Yes\" else \"No Churn\"})\n",
    "    except Exception as e:\n",
    "        logging.error(f\"Prediction error: {str(e)}\")\n",
    "        return jsonify({\"success\": False, \"error\": str(e)}), 500\n",
    "\n",
    "if __name__ == '__main__':\n",
    "    app.run(debug=True)\n"
   ]
  },
  {
   "cell_type": "code",
   "execution_count": null,
   "metadata": {},
   "outputs": [],
   "source": []
  }
 ],
 "metadata": {
  "colab": {
   "collapsed_sections": [
    "X3f_6RRVitXl",
    "JLUWkWPdbToK",
    "zILILs5Ad8EL",
    "FGvQiyeDeH7e",
    "ojXJC5VSjLi5",
    "4Q--4FFDvEB_"
   ],
   "provenance": []
  },
  "hide_input": false,
  "kernelspec": {
   "display_name": "Python 3 (ipykernel)",
   "language": "python",
   "name": "python3"
  },
  "language_info": {
   "codemirror_mode": {
    "name": "ipython",
    "version": 3
   },
   "file_extension": ".py",
   "mimetype": "text/x-python",
   "name": "python",
   "nbconvert_exporter": "python",
   "pygments_lexer": "ipython3",
   "version": "3.11.4"
  }
 },
 "nbformat": 4,
 "nbformat_minor": 4
}
